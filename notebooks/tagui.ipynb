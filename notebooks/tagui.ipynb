{
 "cells": [
  {
   "cell_type": "code",
   "execution_count": null,
   "id": "860f5b1c-f975-45d5-8f89-a314e9165611",
   "metadata": {},
   "outputs": [
    {
     "name": "stdout",
     "output_type": "stream",
     "text": [
      "Collecting rpa\n",
      "  Downloading rpa-1.48.1.tar.gz (5.6 kB)\n",
      "  Preparing metadata (setup.py) ... \u001b[?25ldone\n",
      "\u001b[?25hCollecting tagui>=1.48.1\n",
      "  Using cached tagui-1.48.1-py3-none-any.whl\n",
      "Building wheels for collected packages: rpa\n",
      "  Building wheel for rpa (setup.py) ... \u001b[?25ldone\n",
      "\u001b[?25h  Created wheel for rpa: filename=rpa-1.48.1-py3-none-any.whl size=6144 sha256=9dfdb3ece2176db60b27fbc442bc54c9627c28911cec23aacf06fe87d938ab84\n",
      "  Stored in directory: /home/raoulbia/.cache/pip/wheels/20/b6/3d/2de002bc0e74b46f9a64f07cf07cf6b89e9a192f30c8ef3c2e\n",
      "Successfully built rpa\n",
      "Installing collected packages: tagui, rpa\n",
      "Successfully installed rpa-1.48.1 tagui-1.48.1\n",
      "[RPA][INFO] - setting up TagUI for use in your Python environment\n",
      "[RPA][INFO] - downloading TagUI (~200MB) and unzipping to below folder...\n",
      "[RPA][INFO] - /home/raoulbia\n"
     ]
    }
   ],
   "source": [
    "# setup RPA environment by installing PHP, Chromium web browser and RPA for Python\n",
    "# !apt-get update; apt install php; apt install chromium-browser; \n",
    "!pip install rpa\n",
    "\n",
    "# run r.setup() to download TagUI, modify to run Chromium browser and as root user\n",
    "import rpa as r; r.setup(); r.dump(r.load('/root/.tagui/src/tagui').replace('\"google-chrome\"', '\"chromium-browser\"').replace('$headless_switch', '--no-sandbox'), '/root/.tagui/src/tagui')\n",
    "\n",
    "# virtual display to run web browser normally (some websites reject headless mode)\n",
    "!apt install xvfb; pip install pyvirtualdisplay\n",
    "import pyvirtualdisplay; display = pyvirtualdisplay.Display(); display.start()"
   ]
  }
 ],
 "metadata": {
  "kernelspec": {
   "display_name": "trading",
   "language": "python",
   "name": "trading"
  },
  "language_info": {
   "codemirror_mode": {
    "name": "ipython",
    "version": 3
   },
   "file_extension": ".py",
   "mimetype": "text/x-python",
   "name": "python",
   "nbconvert_exporter": "python",
   "pygments_lexer": "ipython3",
   "version": "3.7.13"
  }
 },
 "nbformat": 4,
 "nbformat_minor": 5
}
